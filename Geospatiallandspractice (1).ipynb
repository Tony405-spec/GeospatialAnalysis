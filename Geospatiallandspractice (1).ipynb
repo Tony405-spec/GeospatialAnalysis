{
 "cells": [
  {
   "cell_type": "code",
   "execution_count": null,
   "id": "d8305fb6-cf7f-452a-951b-ce07ee2ee236",
   "metadata": {},
   "outputs": [],
   "source": [
    "import pandas as pd\n",
    "import numpy as np\n",
    "import matplotlib.pyplot as plt\n",
    "import seaborn as sns\n",
    "import geopandas as gpd"
   ]
  },
  {
   "cell_type": "code",
   "execution_count": null,
   "id": "fc1cd10b-d183-4c16-912c-68d5ee1fcd4a",
   "metadata": {},
   "outputs": [],
   "source": [
    "ke_data=pd.read_csv('ke.csv')\n",
    "ke_data.head()"
   ]
  },
  {
   "cell_type": "code",
   "execution_count": null,
   "id": "d779f918-03a3-41aa-81bd-2f38a3d0518e",
   "metadata": {},
   "outputs": [],
   "source": [
    "# Creating the geopandas dataframe\n",
    "kenya=gpd.GeoDataFrame(ke_data,geometry=gpd.points_from_xy(ke_data['lng'],ke_data['lat']))"
   ]
  },
  {
   "cell_type": "code",
   "execution_count": null,
   "id": "6ea90980-6e70-4c1d-8677-c1c15b189c2d",
   "metadata": {},
   "outputs": [],
   "source": [
    "# set the CRS to {'init':4326}\n",
    "kenya.crs={'init':'epsg:4326'}\n"
   ]
  },
  {
   "cell_type": "markdown",
   "id": "d549d3ad-3595-46f2-8cda-e213aed15b47",
   "metadata": {},
   "source": [
    "### Which cities are located above the equator?Below?"
   ]
  },
  {
   "cell_type": "code",
   "execution_count": null,
   "id": "3773ba4e-692f-44dc-adcb-65f1c61beff3",
   "metadata": {},
   "outputs": [],
   "source": [
    "kenya[kenya.geometry.y>0][['city','lat']]"
   ]
  },
  {
   "cell_type": "markdown",
   "id": "14fd4e53-fe1b-417c-86cb-2feb84edee45",
   "metadata": {},
   "source": [
    "#### Furthesr Nort,South,east,West"
   ]
  },
  {
   "cell_type": "code",
   "execution_count": null,
   "id": "21dc1ad0-fb62-46a5-84de-e4241c6ff9a3",
   "metadata": {},
   "outputs": [],
   "source": [
    "north = kenya.loc[kenya.geometry.y.idxmax()]\n",
    "south = kenya.loc[kenya.geometry.y.idxmin()]\n",
    "east = kenya.loc[kenya.geometry.x.idxmax()]\n",
    "west = kenya.loc[kenya.geometry.x.idxmin()]\n",
    "\n",
    "north['city'], south['city'], east['city'], west['city']\n"
   ]
  },
  {
   "cell_type": "markdown",
   "id": "6c748972-57b1-4fcf-bac2-7e2bc99375e2",
   "metadata": {},
   "source": [
    "#### Closest City to Nairobi"
   ]
  },
  {
   "cell_type": "code",
   "execution_count": null,
   "id": "b79c6721-7d68-4939-ae5d-5dcb46384154",
   "metadata": {},
   "outputs": [],
   "source": [
    "from shapely.ops import nearest_points\n",
    "\n",
    "# Get Nairobi point\n",
    "nairobi = kenya[kenya.city == \"Nairobi\"].geometry.values[0]\n",
    "\n",
    "# Compute distances\n",
    "kenya['distance_to_nairobi_km'] = kenya.distance(nairobi) * 111  # rough km estimate\n",
    "\n",
    "# Closest (excluding Nairobi itself)\n",
    "kenya[kenya.city != \"Nairobi\"].sort_values('distance_to_nairobi_km').head(1)\n"
   ]
  },
  {
   "cell_type": "markdown",
   "id": "fb2d457e-75dd-4bc3-a0eb-7968f824f7f9",
   "metadata": {},
   "source": [
    "## Cities over 1 million"
   ]
  },
  {
   "cell_type": "code",
   "execution_count": null,
   "id": "bde33003-18ed-46d4-bfc7-fabed1a5d944",
   "metadata": {},
   "outputs": [],
   "source": [
    "kenya[kenya.population > 1_000_000][['city', 'population']]\n"
   ]
  },
  {
   "cell_type": "markdown",
   "id": "ae3cf9f6-5854-4f1b-8dbe-62adb1bf9883",
   "metadata": {},
   "source": [
    "## Cities within 100 km of Mombasa"
   ]
  },
  {
   "cell_type": "code",
   "execution_count": null,
   "id": "85e07306-d934-4aaf-a188-797e5e99d8f6",
   "metadata": {},
   "outputs": [],
   "source": [
    "from geopy.distance import geodesic\n",
    "\n",
    "# Get Mombasa's coordinates\n",
    "mombasa_coords = kenya[kenya.city == \"Mombasa\"].geometry.values[0].coords[0]\n",
    "\n",
    "# Compute geodesic distance for each city\n",
    "kenya['dist_to_mombasa_km'] = kenya.geometry.apply(\n",
    "    lambda x: geodesic((x.y, x.x), (mombasa_coords[1], mombasa_coords[0])).km\n",
    ")\n",
    "\n",
    "kenya[kenya['dist_to_mombasa_km'] <= 100][['city', 'dist_to_mombasa_km']]\n"
   ]
  },
  {
   "cell_type": "markdown",
   "id": "c94b2d31-3d0c-4951-9235-25c95a1ec512",
   "metadata": {},
   "source": [
    "## Most Isolated City"
   ]
  },
  {
   "cell_type": "code",
   "execution_count": null,
   "id": "b8f6689f-7db4-489f-a83b-34366ecd87e9",
   "metadata": {},
   "outputs": [],
   "source": [
    "from scipy.spatial import distance_matrix\n",
    "\n",
    "# Coordinates matrix\n",
    "coords = list(zip(kenya.geometry.y, kenya.geometry.x))\n",
    "dist_matrix = distance_matrix(coords, coords)\n",
    "\n",
    "# Sum of distances to others\n",
    "kenya['isolation_score'] = dist_matrix.sum(axis=1)\n",
    "\n",
    "# Most isolated city\n",
    "kenya.loc[kenya['isolation_score'].idxmax()][['city', 'isolation_score']]\n"
   ]
  },
  {
   "cell_type": "markdown",
   "id": "7de60f5f-5e7c-40d7-90f8-2a0156b6db50",
   "metadata": {},
   "source": [
    "## Buffer each city and check overlaps"
   ]
  },
  {
   "cell_type": "code",
   "execution_count": null,
   "id": "efb7c5ff-eb70-416e-a0cc-3a74c18671c9",
   "metadata": {},
   "outputs": [],
   "source": [
    "kenya_buffered = kenya.to_crs(epsg=3857).copy()  # project for distance-based buffering\n",
    "kenya_buffered['buffer_50km'] = kenya_buffered.buffer(50_000)\n",
    "\n",
    "# Example: Check overlap with other buffers for Nairobi\n",
    "nairobi_buffer = kenya_buffered[kenya_buffered.city == \"Nairobi\"].buffer_50km.values[0]\n",
    "\n",
    "kenya_buffered[kenya_buffered.buffer_50km.intersects(nairobi_buffer)][['city']]\n"
   ]
  },
  {
   "cell_type": "markdown",
   "id": "07039774-b5f6-4c26-b5ff-cd6e16d53a45",
   "metadata": {},
   "source": [
    "## Plot cities on Map"
   ]
  },
  {
   "cell_type": "code",
   "execution_count": null,
   "id": "b5377286-a43a-43d2-87e5-73f2fd332f63",
   "metadata": {},
   "outputs": [],
   "source": [
    "import folium\n",
    "\n",
    "# Center the map around Kenya\n",
    "m = folium.Map(location=[0.5, 37], zoom_start=6)\n",
    "\n",
    "# Add all cities\n",
    "for _, row in kenya.iterrows():\n",
    "    folium.CircleMarker(\n",
    "        location=[row.geometry.y, row.geometry.x],\n",
    "        radius=5,\n",
    "        popup=f\"{row['city']} ({int(row['population']) if pd.notnull(row['population']) else 'N/A'})\",\n",
    "        color='blue',\n",
    "        fill=True,\n",
    "    ).add_to(m)\n",
    "\n",
    "m\n"
   ]
  },
  {
   "cell_type": "markdown",
   "id": "0deaf979-ce00-47fe-83de-a57e2e02791f",
   "metadata": {},
   "source": [
    "## Mean Population"
   ]
  },
  {
   "cell_type": "code",
   "execution_count": null,
   "id": "ce3d90e7-2a64-4698-9730-7f7c6df00a27",
   "metadata": {},
   "outputs": [],
   "source": [
    "kenya['population'].mean()\n"
   ]
  },
  {
   "cell_type": "markdown",
   "id": "1afbacdc-6a74-4f46-8808-bba1e141cf4d",
   "metadata": {},
   "source": [
    "## Population-Weighted Center(Centroid)"
   ]
  },
  {
   "cell_type": "code",
   "execution_count": null,
   "id": "187e2f2b-53bd-4f40-92af-7fbd7c2a3ce8",
   "metadata": {},
   "outputs": [],
   "source": [
    "import numpy as np\n",
    "\n",
    "kenya['weight'] = kenya['population'].fillna(0)\n",
    "x = np.average(kenya.geometry.x, weights=kenya['weight'])\n",
    "y = np.average(kenya.geometry.y, weights=kenya['weight'])\n",
    "(f\"Population-weighted centroid: lat={y:.4f}, lon={x:.4f}\")\n"
   ]
  },
  {
   "cell_type": "code",
   "execution_count": null,
   "id": "f5f364e5-742e-46bb-a7ec-a532b530fedb",
   "metadata": {},
   "outputs": [],
   "source": [
    "import folium\n",
    "\n",
    "# Center map around Kenya's centroid\n",
    "m = folium.Map(location=[kenya.geometry.y.mean(), kenya.geometry.x.mean()], zoom_start=6)\n",
    "\n",
    "# Add cities as circle markers\n",
    "for _, row in kenya.iterrows():\n",
    "    folium.CircleMarker(\n",
    "        location=[row.geometry.y, row.geometry.x],\n",
    "        radius=5,\n",
    "        popup=row['city'],\n",
    "        color='blue',\n",
    "        fill=True,\n",
    "        fill_opacity=0.6\n",
    "    ).add_to(m)\n",
    "\n",
    "m\n"
   ]
  },
  {
   "cell_type": "code",
   "execution_count": null,
   "id": "0f0b7c4f-eeff-48c3-99a1-6b35d94e834f",
   "metadata": {},
   "outputs": [],
   "source": [
    "pip install leafmap"
   ]
  },
  {
   "cell_type": "code",
   "execution_count": null,
   "id": "04122b17-0348-46fc-b519-53e3af5079cf",
   "metadata": {},
   "outputs": [],
   "source": [
    "import leafmap\n",
    "\n",
    "# Create interactive map\n",
    "m = leafmap.Map(center=[0.3, 37], zoom=6)\n",
    "\n",
    "# Loop through cities and add satellite basemap tiles\n",
    "for _, row in kenya.iterrows():\n",
    "    m.add_marker(\n",
    "        location=(row.geometry.y, row.geometry.x),\n",
    "        popup=row['city'],\n",
    "        icon='map-marker'\n",
    "    )\n",
    "\n",
    "# Set map to satellite view\n",
    "m.add_basemap(\"Esri.WorldImagery\")\n",
    "m\n"
   ]
  }
 ],
 "metadata": {
  "kernelspec": {
   "display_name": "Python 3 (ipykernel)",
   "language": "python",
   "name": "python3"
  },
  "language_info": {
   "codemirror_mode": {
    "name": "ipython",
    "version": 3
   },
   "file_extension": ".py",
   "mimetype": "text/x-python",
   "name": "python",
   "nbconvert_exporter": "python",
   "pygments_lexer": "ipython3",
   "version": "3.12.4"
  }
 },
 "nbformat": 4,
 "nbformat_minor": 5
}
